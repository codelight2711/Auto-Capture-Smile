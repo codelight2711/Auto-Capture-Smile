{
 "cells": [
  {
   "cell_type": "code",
   "execution_count": 1,
   "metadata": {},
   "outputs": [],
   "source": [
    "import cv2"
   ]
  },
  {
   "cell_type": "code",
   "execution_count": 2,
   "metadata": {},
   "outputs": [],
   "source": [
    "video= cv2.VideoCapture(0)"
   ]
  },
  {
   "cell_type": "code",
   "execution_count": 3,
   "metadata": {},
   "outputs": [],
   "source": [
    "faceCascade = cv2.CascadeClassifier(cv2.data.haarcascades + 'haarcascade_frontalface_default.xml')\n",
    "smileCascade = cv2.CascadeClassifier(cv2.data.haarcascades + 'haarcascade_smile.xml')"
   ]
  },
  {
   "cell_type": "code",
   "execution_count": 4,
   "metadata": {},
   "outputs": [
    {
     "name": "stdout",
     "output_type": "stream",
     "text": [
      "Image 1Saved\n",
      "Image 1Saved\n",
      "Image 1Saved\n",
      "Image 1Saved\n",
      "Image 1Saved\n",
      "Image 1Saved\n",
      "Image 1Saved\n",
      "Image 1Saved\n",
      "Image 1Saved\n",
      "Image 1Saved\n",
      "Image 1Saved\n",
      "Image 1Saved\n",
      "Image 1Saved\n",
      "Image 1Saved\n",
      "Image 1Saved\n",
      "Image 1Saved\n",
      "Image 1Saved\n",
      "Image 1Saved\n",
      "Image 1Saved\n"
     ]
    },
    {
     "ename": "AttributeError",
     "evalue": "module 'cv2.cv2' has no attribute 'destoryAllWindows'",
     "output_type": "error",
     "traceback": [
      "\u001b[1;31m---------------------------------------------------------------------------\u001b[0m",
      "\u001b[1;31mAttributeError\u001b[0m                            Traceback (most recent call last)",
      "\u001b[1;32m<ipython-input-4-f6017942f8e2>\u001b[0m in \u001b[0;36m<module>\u001b[1;34m\u001b[0m\n\u001b[0;32m     21\u001b[0m \u001b[1;33m\u001b[0m\u001b[0m\n\u001b[0;32m     22\u001b[0m \u001b[0mvideo\u001b[0m\u001b[1;33m.\u001b[0m\u001b[0mrelease\u001b[0m\u001b[1;33m(\u001b[0m\u001b[1;33m)\u001b[0m\u001b[1;33m\u001b[0m\u001b[1;33m\u001b[0m\u001b[0m\n\u001b[1;32m---> 23\u001b[1;33m \u001b[0mcv2\u001b[0m\u001b[1;33m.\u001b[0m\u001b[0mdestoryAllWindows\u001b[0m\u001b[1;33m(\u001b[0m\u001b[1;33m)\u001b[0m\u001b[1;33m\u001b[0m\u001b[1;33m\u001b[0m\u001b[0m\n\u001b[0m\u001b[0;32m     24\u001b[0m \u001b[1;33m\u001b[0m\u001b[0m\n",
      "\u001b[1;31mAttributeError\u001b[0m: module 'cv2.cv2' has no attribute 'destoryAllWindows'"
     ]
    }
   ],
   "source": [
    "while True:\n",
    "    success,img = video.read()\n",
    "    grayImg = cv2.cvtColor(img, cv2.COLOR_BGR2GRAY)\n",
    "    faces = faceCascade.detectMultiScale(grayImg,1.1,4)\n",
    "    cnt=1\n",
    "    keyPressed = cv2.waitKey(1)\n",
    "    for x,y,w,h in faces:\n",
    "        img = cv2.rectangle(img,(x,y),(x+w,y+h),(0,0,0),3)\n",
    "        smiles = smileCascade.detectMultiScale(grayImg,1.8,15)\n",
    "        for x,y,w,h in smiles:\n",
    "            img = cv2.rectangle(img,(x,y),(x+w,y+h),(100,100,100),5)\n",
    "            print(\"Image \"+str(cnt)+\"Saved\")\n",
    "            path=r'C:\\Users\\Akash Shaw\\Desktop\\Images\\img'+str(cnt)+'.jpg'\n",
    "            cv2.imwrite(path,img)\n",
    "            cnt +=1\n",
    "            if(cnt>=2):    \n",
    "                break\n",
    "    cv2.imshow('live video',img)\n",
    "    if(keyPressed & 0xFF==ord('q')):\n",
    "        break\n",
    "        \n",
    "video.release()\n",
    "cv2.destoryAllWindows()\n",
    "    "
   ]
  },
  {
   "cell_type": "code",
   "execution_count": null,
   "metadata": {},
   "outputs": [],
   "source": []
  }
 ],
 "metadata": {
  "kernelspec": {
   "display_name": "Python 3",
   "language": "python",
   "name": "python3"
  },
  "language_info": {
   "codemirror_mode": {
    "name": "ipython",
    "version": 3
   },
   "file_extension": ".py",
   "mimetype": "text/x-python",
   "name": "python",
   "nbconvert_exporter": "python",
   "pygments_lexer": "ipython3",
   "version": "3.7.3"
  }
 },
 "nbformat": 4,
 "nbformat_minor": 2
}
